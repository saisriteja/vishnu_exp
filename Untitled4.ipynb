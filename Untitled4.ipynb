{
 "cells": [
  {
   "cell_type": "code",
   "execution_count": 3,
   "metadata": {},
   "outputs": [
    {
     "ename": "error",
     "evalue": "Error loading texture",
     "output_type": "error",
     "traceback": [
      "\u001b[0;31m---------------------------------------------------------------------------\u001b[0m",
      "\u001b[0;31merror\u001b[0m                                     Traceback (most recent call last)",
      "\u001b[0;32m<ipython-input-3-72c2187d4f5c>\u001b[0m in \u001b[0;36m<module>\u001b[0;34m\u001b[0m\n\u001b[1;32m     11\u001b[0m \u001b[0mp\u001b[0m\u001b[0;34m.\u001b[0m\u001b[0msetGravity\u001b[0m\u001b[0;34m(\u001b[0m\u001b[0;36m0\u001b[0m\u001b[0;34m,\u001b[0m \u001b[0;36m0\u001b[0m\u001b[0;34m,\u001b[0m \u001b[0;34m-\u001b[0m\u001b[0;36m10\u001b[0m\u001b[0;34m)\u001b[0m\u001b[0;34m\u001b[0m\u001b[0;34m\u001b[0m\u001b[0m\n\u001b[1;32m     12\u001b[0m \u001b[0;34m\u001b[0m\u001b[0m\n\u001b[0;32m---> 13\u001b[0;31m \u001b[0mtex\u001b[0m \u001b[0;34m=\u001b[0m \u001b[0mp\u001b[0m\u001b[0;34m.\u001b[0m\u001b[0mloadTexture\u001b[0m\u001b[0;34m(\u001b[0m\u001b[0;34m\"uvmap.png\"\u001b[0m\u001b[0;34m)\u001b[0m\u001b[0;34m\u001b[0m\u001b[0;34m\u001b[0m\u001b[0m\n\u001b[0m\u001b[1;32m     14\u001b[0m \u001b[0mplaneId\u001b[0m \u001b[0;34m=\u001b[0m \u001b[0mp\u001b[0m\u001b[0;34m.\u001b[0m\u001b[0mloadURDF\u001b[0m\u001b[0;34m(\u001b[0m\u001b[0;34m\"plane.urdf\"\u001b[0m\u001b[0;34m,\u001b[0m \u001b[0;34m[\u001b[0m\u001b[0;36m0\u001b[0m\u001b[0;34m,\u001b[0m\u001b[0;36m0\u001b[0m\u001b[0;34m,\u001b[0m\u001b[0;34m-\u001b[0m\u001b[0;36m2\u001b[0m\u001b[0;34m]\u001b[0m\u001b[0;34m)\u001b[0m\u001b[0;34m\u001b[0m\u001b[0;34m\u001b[0m\u001b[0m\n\u001b[1;32m     15\u001b[0m \u001b[0;34m\u001b[0m\u001b[0m\n",
      "\u001b[0;31merror\u001b[0m: Error loading texture"
     ]
    }
   ],
   "source": [
    "import pybullet as p\n",
    "from time import sleep\n",
    "import pybullet_data\n",
    "\n",
    "physicsClient = p.connect(p.GUI)\n",
    "p.setAdditionalSearchPath(pybullet_data.getDataPath())\n",
    "\n",
    "p.resetSimulation(p.RESET_USE_DEFORMABLE_WORLD)\n",
    "\n",
    "p.setGravity(0, 0, -10)\n",
    "\n",
    "planeOrn = [0,0,0,1]#p.getQuaternionFromEuler([0.3,0,0])\n",
    "planeId = p.loadURDF(\"plane.urdf\", [0,0,-2],planeOrn)\n",
    "\n",
    "boxId = p.loadURDF(\"meshes/cube.urdf\", [0,3,2],useMaximalCoordinates = True)\n",
    "\n",
    "ballId = p.loadSoftBody(\"ball.obj\", simFileName = \"ball.vtk\", basePosition = [0,0,-1], scale = 0.5, mass = 4, useNeoHookean = 1, NeoHookeanMu = 400, NeoHookeanLambda = 600, NeoHookeanDamping = 0.001, useSelfCollision = 1, frictionCoeff = .5, collisionMargin = 0.001)\n",
    "p.setTimeStep(0.001)\n",
    "p.setPhysicsEngineParameter(sparseSdfVoxelSize=0.25)\n",
    "\n",
    "\n",
    "#logId = p.startStateLogging(p.STATE_LOGGING_PROFILE_TIMINGS, \"perf.json\")\n",
    "\n",
    "while p.isConnected():\n",
    "\n",
    "  p.stepSimulation()  \n",
    "  #there can be some artifacts in the visualizer window, \n",
    "  #due to reading of deformable vertices in the renderer,\n",
    "  #while the simulators updates the same vertices\n",
    "  #it can be avoided using\n",
    "  #p.configureDebugVisualizer(p.COV_ENABLE_SINGLE_STEP_RENDERING,1)\n",
    "  #but then things go slower\n",
    "  p.setGravity(0,0,-10)\n",
    "  #sleep(1./240.)\n",
    "  \n",
    "#p.resetSimulation()\n",
    "#p.stopStateLogging(logId)"
   ]
  },
  {
   "cell_type": "code",
   "execution_count": null,
   "metadata": {},
   "outputs": [],
   "source": []
  },
  {
   "cell_type": "code",
   "execution_count": 2,
   "metadata": {},
   "outputs": [],
   "source": [
    "p.disconnect()"
   ]
  },
  {
   "cell_type": "code",
   "execution_count": null,
   "metadata": {},
   "outputs": [],
   "source": []
  }
 ],
 "metadata": {
  "kernelspec": {
   "display_name": "Python 3",
   "language": "python",
   "name": "python3"
  },
  "language_info": {
   "codemirror_mode": {
    "name": "ipython",
    "version": 3
   },
   "file_extension": ".py",
   "mimetype": "text/x-python",
   "name": "python",
   "nbconvert_exporter": "python",
   "pygments_lexer": "ipython3",
   "version": "3.8.5"
  }
 },
 "nbformat": 4,
 "nbformat_minor": 4
}
