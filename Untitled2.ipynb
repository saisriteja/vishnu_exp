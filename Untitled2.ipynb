{
 "cells": [
  {
   "cell_type": "code",
   "execution_count": 21,
   "metadata": {},
   "outputs": [],
   "source": [
    "import pybullet as p\n",
    "import time\n",
    "import pybullet_data\n",
    "from numpngw import write_apng\n",
    "from IPython.display import Image\n",
    "import numpy as np\n",
    "\n",
    "p.connect(p.GUI)\n",
    "p.setAdditionalSearchPath(pybullet_data.getDataPath())\n",
    "\n",
    "\n",
    "p.configureDebugVisualizer(p.COV_ENABLE_GUI)\n",
    "useFixedBase = True\n",
    "flags = p.URDF_INITIALIZE_SAT_FEATURES\n",
    "\n",
    "plane_pos = [0,0,-0.625]\n",
    "plane = p.loadURDF(\"plane.urdf\", plane_pos, flags = flags, useFixedBase=useFixedBase)\n",
    "table_pos = [0,0,-0.625]\n",
    "\n",
    "\n",
    "table = p.loadURDF(\"table/table.urdf\", table_pos, flags = flags, useFixedBase=useFixedBase)\n",
    "\n",
    "\n",
    "xarm = p.loadURDF(\"meshes/ur5.urdf\", flags = flags, useFixedBase=useFixedBase)\n",
    "\n",
    "table_pos = [0,1,-0.625]\n",
    "table2 = p.loadURDF(\"table/table.urdf\", table_pos, flags = flags, useFixedBase=useFixedBase)\n",
    "\n",
    "\n",
    "position = [0,0,8.5]\n",
    "spine = p.loadURDF(\"meshes/spine.urdf\",position,flags = flags, useFixedBase=useFixedBase)\n",
    "# sphereRadius = 0.25\n",
    "\n",
    "# p.createCollisionShape(p.GEOM_PLANE)\n",
    "# colBoxId = p.createCollisionShape(p.GEOM_BOX,halfExtents=[sphereRadius, sphereRadius, sphereRadius])\n",
    "\n",
    "# basePosition = [0,0.8,5]\n",
    "# baseOrientation = [0,0,0,1]\n",
    "# mass = 1\n",
    "# visualShapeId = -1\n",
    "\n",
    "# sphereUid = p.createMultiBody(mass, colBoxId, visualShapeId, basePosition,baseOrientation)\n",
    "\n",
    "#set gravity in negative z direction\n",
    "p.setGravity(0, 0, -10)\n",
    "p.setRealTimeSimulation(1)"
   ]
  },
  {
   "cell_type": "code",
   "execution_count": 1,
   "metadata": {},
   "outputs": [
    {
     "ename": "NameError",
     "evalue": "name 'p' is not defined",
     "output_type": "error",
     "traceback": [
      "\u001b[0;31m---------------------------------------------------------------------------\u001b[0m",
      "\u001b[0;31mNameError\u001b[0m                                 Traceback (most recent call last)",
      "\u001b[0;32m<ipython-input-1-ce9cacbf3385>\u001b[0m in \u001b[0;36m<module>\u001b[0;34m\u001b[0m\n\u001b[0;32m----> 1\u001b[0;31m \u001b[0mp\u001b[0m\u001b[0;34m.\u001b[0m\u001b[0mdisconnect\u001b[0m\u001b[0;34m(\u001b[0m\u001b[0;34m)\u001b[0m\u001b[0;34m\u001b[0m\u001b[0;34m\u001b[0m\u001b[0m\n\u001b[0m",
      "\u001b[0;31mNameError\u001b[0m: name 'p' is not defined"
     ]
    }
   ],
   "source": [
    "p.disconnect()"
   ]
  },
  {
   "cell_type": "code",
   "execution_count": null,
   "metadata": {},
   "outputs": [],
   "source": []
  }
 ],
 "metadata": {
  "kernelspec": {
   "display_name": "Python 3",
   "language": "python",
   "name": "python3"
  },
  "language_info": {
   "codemirror_mode": {
    "name": "ipython",
    "version": 3
   },
   "file_extension": ".py",
   "mimetype": "text/x-python",
   "name": "python",
   "nbconvert_exporter": "python",
   "pygments_lexer": "ipython3",
   "version": "3.8.5"
  }
 },
 "nbformat": 4,
 "nbformat_minor": 4
}
